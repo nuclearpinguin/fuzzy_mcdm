{
 "cells": [
  {
   "cell_type": "markdown",
   "metadata": {},
   "source": [
    "# Decider\n",
    "## Fuzzy Multi-Criteria Decision Making"
   ]
  },
  {
   "cell_type": "code",
   "execution_count": 1,
   "metadata": {
    "hide_input": true
   },
   "outputs": [],
   "source": [
    "from __future__ import print_function\n",
    "from ipywidgets import interact, interactive, fixed, interact_manual\n",
    "import ipywidgets as widgets\n",
    "import numpy as np\n",
    "import pandas as pd\n",
    "\n",
    "class FuzPrefStruct():\n",
    "    # This is Fuzzy Preference Structure represented as (s, phi)-FPS where automorphism phi is the identity function.\n",
    "    # s = {0,1, 'inf'}\n",
    "    def __init__(self, array: np.float,  s=0):\n",
    "\n",
    "        if s != 0 or s != 1 or s != 'inf':\n",
    "            self.s = 0\n",
    "            #print(\"S must be {0, 1, inf}. Set default value s=0\")\n",
    "        else:\n",
    "            self.s = s\n",
    "\n",
    "        self.Rarray = array\n",
    "        R = self.Rarray\n",
    "\n",
    "        # initiate strict preference P array\n",
    "        if self.s == 0:\n",
    "            # max{R(a,b) - R(b,a), 0}\n",
    "            self.Parray = np.maximum(R - R.T, 0)\n",
    "        elif self.s == 1:\n",
    "            # R(a,b)(1- R(b,a))\n",
    "            self.Parray = R * (1 - R.T)\n",
    "        elif self.s == \"inf\":\n",
    "            # min{R(a,b), 1-R(b,a)}\n",
    "            self.Parray = np.minimum(R, 1 - R.T)\n",
    "\n",
    "\n",
    "        # initiate indifference relation I array\n",
    "        if self.s == 0:\n",
    "            # min{R(a,b), R(b,a)}\n",
    "            self.Iarray = np.minimum(R, R.T)\n",
    "        elif self.s == 1:\n",
    "            # R(a,b)R(b,a)\n",
    "            self.Iarray = R * R.T\n",
    "        elif self.s == \"inf\":\n",
    "            # max{R(a, b)+R(b, a)-1,0}\n",
    "            self.Iarray = np.maximum(R + R.T - 1, 0)\n",
    "\n",
    "        # initiate incomparability relation J array\n",
    "        if self.s == 0:\n",
    "            # min{(1-R(a,b), 1-R(b,a)}\n",
    "            self.Jarray = np.minimum(1-R, 1-R.T)\n",
    "        elif self.s == 1:\n",
    "            # (1-R(a,b))(1-R(b,a))\n",
    "            self.Jarray = (1-R) * (1-R.T)\n",
    "        elif self.s == \"inf\":\n",
    "            # max{1 - R(a,b) - R(b, a),0}\n",
    "            self.Jarray = np.maximum(1 - R - R.T, 0)\n",
    "\n",
    "# Simple Solve\n",
    "def ssolve(alternatives, criteria_rarrays, method, s):\n",
    "\n",
    "    # check problem size\n",
    "    problem_size = len(alternatives)\n",
    "    for r in criteria_rarrays:\n",
    "        if r.shape[0] != problem_size or r.shape[1] != problem_size:\n",
    "            print('Invalid problem dimensions. Check dimensions of R relations or the number of alternatives.')\n",
    "            return {'optimal_set': [], 'nd_set': [], 'set_type': None}\n",
    "\n",
    "    fps_list = []\n",
    "    for r in criteria_rarrays:\n",
    "        fps_list.append(FuzPrefStruct(r, s))\n",
    "    plist = [ps.Parray for ps in fps_list]\n",
    "    \n",
    "    if method == 1:\n",
    "        # aggregation\n",
    "        minR = np.ones((problem_size,problem_size))\n",
    "        for r in [fps.Rarray for fps in fps_list]:\n",
    "            minR = np.minimum(minR, r)\n",
    "\n",
    "        discrete_fps = FuzPrefStruct(minR, s)\n",
    "\n",
    "        # scoring\n",
    "        ND = 1 - np.nanmax(discrete_fps.Parray, axis=0)\n",
    "        NDmax = np.max(ND)\n",
    "\n",
    "        # optimal decision set\n",
    "        nd_alternatives = []\n",
    "        for i in range(ND.size):\n",
    "            if ND[i] == NDmax:\n",
    "                nd_alternatives.append(alternatives[i])\n",
    "\n",
    "        # result type\n",
    "        rtype = 'fuzzy'\n",
    "        if NDmax == 1:\n",
    "            rtype = 'crisp'\n",
    "\n",
    "        return {'optimal_set': nd_alternatives, \n",
    "                'nd_set': ND, \n",
    "                'set_type': rtype,\n",
    "                'strict_preference':plist}\n",
    "\n",
    "    elif method == 2:\n",
    "        # scoring\n",
    "        ND_list = []\n",
    "        for Pk in plist:\n",
    "            NDk = 1 - np.nanmax(Pk, axis=0)\n",
    "            ND_list.append(NDk)\n",
    "\n",
    "        # aggregation\n",
    "        ND_array = np.array(ND_list)\n",
    "        nd_alternatives = np.nanmin(ND_array, axis=0)\n",
    "\n",
    "        optimal_decision = []\n",
    "        NDmax = np.max(nd_alternatives)\n",
    "        for i in range(nd_alternatives.size):\n",
    "            if nd_alternatives[i] == NDmax:\n",
    "                optimal_decision.append(alternatives[i])\n",
    "\n",
    "        # result type\n",
    "        rtype = 'fuzzy'\n",
    "        if NDmax == 1:\n",
    "            rtype='crisp'\n",
    "\n",
    "        return {'optimal_set': optimal_decision, \n",
    "                'nd_set': nd_alternatives, \n",
    "                'set_type': rtype, \n",
    "                'strict_preference':plist}\n",
    "\n",
    "relations_list = []"
   ]
  },
  {
   "cell_type": "markdown",
   "metadata": {
    "hide_input": false
   },
   "source": [
    "Note: to use this notebook one must install file-upload widget: https://github.com/peteut/ipython-file-upload/blob/master/README.rst"
   ]
  },
  {
   "cell_type": "markdown",
   "metadata": {
    "hide_input": true
   },
   "source": [
    "<b>Data upload</b>\n",
    "\n",
    "Add .csv files with large preference relation values tables. One file, one relation."
   ]
  },
  {
   "cell_type": "code",
   "execution_count": 2,
   "metadata": {
    "hide_input": true
   },
   "outputs": [
    {
     "data": {
      "application/vnd.jupyter.widget-view+json": {
       "model_id": "4c5d776d04544595a00cd30700ae1e6a",
       "version_major": 2,
       "version_minor": 0
      },
      "text/html": [
       "<p>Failed to display Jupyter Widget of type <code>FileUploadWidget</code>.</p>\n",
       "<p>\n",
       "  If you're reading this message in the Jupyter Notebook or JupyterLab Notebook, it may mean\n",
       "  that the widgets JavaScript is still loading. If this message persists, it\n",
       "  likely means that the widgets JavaScript library is either not installed or\n",
       "  not enabled. See the <a href=\"https://ipywidgets.readthedocs.io/en/stable/user_install.html\">Jupyter\n",
       "  Widgets Documentation</a> for setup instructions.\n",
       "</p>\n",
       "<p>\n",
       "  If you're reading this message in another frontend (for example, a static\n",
       "  rendering on GitHub or <a href=\"https://nbviewer.jupyter.org/\">NBViewer</a>),\n",
       "  it may mean that your frontend doesn't currently support widgets.\n",
       "</p>\n"
      ],
      "text/plain": [
       "FileUploadWidget(label='Browse', _dom_classes=('widget_item', 'btn-group'))"
      ]
     },
     "metadata": {},
     "output_type": "display_data"
    },
    {
     "name": "stdout",
     "output_type": "stream",
     "text": [
      "Uploaded `r3.csv` (0.05 kB)\n",
      "r3.csv\n",
      "Uploaded relation values: \n",
      "                 a  b  c\n",
      "alternatives            \n",
      "a             1.00  1  1\n",
      "b             0.88  1  1\n",
      "c             0.88  1  1\n",
      "Actual number of relations : 3\n"
     ]
    },
    {
     "data": {
      "application/vnd.jupyter.widget-view+json": {
       "model_id": "745cfbdd88c34654853f5a2cbbeae7ba",
       "version_major": 2,
       "version_minor": 0
      },
      "text/html": [
       "<p>Failed to display Jupyter Widget of type <code>Button</code>.</p>\n",
       "<p>\n",
       "  If you're reading this message in the Jupyter Notebook or JupyterLab Notebook, it may mean\n",
       "  that the widgets JavaScript is still loading. If this message persists, it\n",
       "  likely means that the widgets JavaScript library is either not installed or\n",
       "  not enabled. See the <a href=\"https://ipywidgets.readthedocs.io/en/stable/user_install.html\">Jupyter\n",
       "  Widgets Documentation</a> for setup instructions.\n",
       "</p>\n",
       "<p>\n",
       "  If you're reading this message in another frontend (for example, a static\n",
       "  rendering on GitHub or <a href=\"https://nbviewer.jupyter.org/\">NBViewer</a>),\n",
       "  it may mean that your frontend doesn't currently support widgets.\n",
       "</p>\n"
      ],
      "text/plain": [
       "Button(description='Add new file', style=ButtonStyle(), tooltip='Click me')"
      ]
     },
     "metadata": {},
     "output_type": "display_data"
    }
   ],
   "source": [
    "import io\n",
    "from IPython.display import display\n",
    "import fileupload\n",
    "from IPython.display import clear_output\n",
    "from time import sleep\n",
    "\n",
    "button = widgets.Button(\n",
    "    description='Add new file',\n",
    "    disabled=False,\n",
    "    button_style='', # 'success', 'info', 'warning', 'danger' or ''\n",
    "    tooltip='Click me',\n",
    ")\n",
    "\n",
    "def on_button_clicked(b):\n",
    "    sleep(1)\n",
    "    uploader = fileupload.FileUploadWidget()\n",
    "    def _handle_upload(change):\n",
    "        w = change['owner']\n",
    "        print('Uploaded `{}` ({:.2f} kB)'.format(\n",
    "            w.filename, len(w.data) / 2**10))\n",
    "        print(uploader.filename)\n",
    "        \n",
    "        df = pd.read_csv(uploader.filename, index_col=0)\n",
    "        relations_list.append(df)\n",
    "        print('Uploaded relation values: ')\n",
    "        print(df)\n",
    "        print('Actual number of relations :', len(relations_list))\n",
    "        button.visible = False\n",
    "        display(button)\n",
    "    \n",
    "    uploader.observe(_handle_upload, names='data')\n",
    "    clear_output()\n",
    "    display(uploader)\n",
    "\n",
    "button.on_click(on_button_clicked)\n",
    "display(button)\n"
   ]
  },
  {
   "cell_type": "markdown",
   "metadata": {
    "hide_input": true
   },
   "source": [
    "<b> Solver configuration </b>\n",
    "\n",
    "Configure solving method and value of s used for building <b>(s, id)-FPS </b>:"
   ]
  },
  {
   "cell_type": "code",
   "execution_count": 3,
   "metadata": {
    "hide_input": true,
    "scrolled": false
   },
   "outputs": [
    {
     "data": {
      "application/vnd.jupyter.widget-view+json": {
       "model_id": "b89f1ce3c081443d983249b27c49d2ff",
       "version_major": 2,
       "version_minor": 0
      },
      "text/html": [
       "<p>Failed to display Jupyter Widget of type <code>ToggleButtons</code>.</p>\n",
       "<p>\n",
       "  If you're reading this message in the Jupyter Notebook or JupyterLab Notebook, it may mean\n",
       "  that the widgets JavaScript is still loading. If this message persists, it\n",
       "  likely means that the widgets JavaScript library is either not installed or\n",
       "  not enabled. See the <a href=\"https://ipywidgets.readthedocs.io/en/stable/user_install.html\">Jupyter\n",
       "  Widgets Documentation</a> for setup instructions.\n",
       "</p>\n",
       "<p>\n",
       "  If you're reading this message in another frontend (for example, a static\n",
       "  rendering on GitHub or <a href=\"https://nbviewer.jupyter.org/\">NBViewer</a>),\n",
       "  it may mean that your frontend doesn't currently support widgets.\n",
       "</p>\n"
      ],
      "text/plain": [
       "ToggleButtons(description='Method', options={'Aggregation-Scoring': 1, 'Scoring-Aggregation': 2}, value=1)"
      ]
     },
     "metadata": {},
     "output_type": "display_data"
    },
    {
     "data": {
      "application/vnd.jupyter.widget-view+json": {
       "model_id": "f390fe62e63d4c8c8701fa0e23c6c41c",
       "version_major": 2,
       "version_minor": 0
      },
      "text/html": [
       "<p>Failed to display Jupyter Widget of type <code>ToggleButtons</code>.</p>\n",
       "<p>\n",
       "  If you're reading this message in the Jupyter Notebook or JupyterLab Notebook, it may mean\n",
       "  that the widgets JavaScript is still loading. If this message persists, it\n",
       "  likely means that the widgets JavaScript library is either not installed or\n",
       "  not enabled. See the <a href=\"https://ipywidgets.readthedocs.io/en/stable/user_install.html\">Jupyter\n",
       "  Widgets Documentation</a> for setup instructions.\n",
       "</p>\n",
       "<p>\n",
       "  If you're reading this message in another frontend (for example, a static\n",
       "  rendering on GitHub or <a href=\"https://nbviewer.jupyter.org/\">NBViewer</a>),\n",
       "  it may mean that your frontend doesn't currently support widgets.\n",
       "</p>\n"
      ],
      "text/plain": [
       "ToggleButtons(description='s', options=(0, 1, 'inf'), value=0)"
      ]
     },
     "metadata": {},
     "output_type": "display_data"
    }
   ],
   "source": [
    "method = widgets.ToggleButtons(\n",
    "    options={'Aggregation-Scoring':1, 'Scoring-Aggregation':2},\n",
    "    description='Method',\n",
    "    disabled=False,\n",
    "    button_style='', # 'success', 'info', 'warning', 'danger' or ''\n",
    "    #icons=['check'] * 3\n",
    ")\n",
    "\n",
    "svalue = widgets.ToggleButtons(\n",
    "    options=[0,1, 'inf'],\n",
    "    description='s',\n",
    "    disabled=False,\n",
    "    button_style='', # 'success', 'info', 'warning', 'danger' or ''\n",
    "    #tooltips=['Description of slow', 'Description of regular', 'Description of fast'],\n",
    "    #icons=['check'] * 3\n",
    ")\n",
    "\n",
    "display(method)\n",
    "display(svalue)"
   ]
  },
  {
   "cell_type": "markdown",
   "metadata": {},
   "source": [
    "<b> Solution </b>"
   ]
  },
  {
   "cell_type": "code",
   "execution_count": 4,
   "metadata": {
    "hide_input": true
   },
   "outputs": [
    {
     "data": {
      "application/vnd.jupyter.widget-view+json": {
       "model_id": "61270bf9be8e41bd898635e1965af69f",
       "version_major": 2,
       "version_minor": 0
      },
      "text/html": [
       "<p>Failed to display Jupyter Widget of type <code>Button</code>.</p>\n",
       "<p>\n",
       "  If you're reading this message in the Jupyter Notebook or JupyterLab Notebook, it may mean\n",
       "  that the widgets JavaScript is still loading. If this message persists, it\n",
       "  likely means that the widgets JavaScript library is either not installed or\n",
       "  not enabled. See the <a href=\"https://ipywidgets.readthedocs.io/en/stable/user_install.html\">Jupyter\n",
       "  Widgets Documentation</a> for setup instructions.\n",
       "</p>\n",
       "<p>\n",
       "  If you're reading this message in another frontend (for example, a static\n",
       "  rendering on GitHub or <a href=\"https://nbviewer.jupyter.org/\">NBViewer</a>),\n",
       "  it may mean that your frontend doesn't currently support widgets.\n",
       "</p>\n"
      ],
      "text/plain": [
       "Button(button_style='success', description='Solve!', style=ButtonStyle(), tooltip='Click me')"
      ]
     },
     "metadata": {},
     "output_type": "display_data"
    },
    {
     "name": "stdout",
     "output_type": "stream",
     "text": [
      "===================================================\n",
      "Given problem involves 3 : ['a', 'b', 'c']\n",
      "scored according to 3 criteria.\n",
      "---------------------------------------------------\n",
      "Method: 1, s: 1\n",
      "Set of optimal decisions:  ['b', 'c']\n",
      "Solution type:  crisp\n"
     ]
    }
   ],
   "source": [
    "run = widgets.Button(\n",
    "    description='Solve!',\n",
    "    disabled=False,\n",
    "    button_style='success', # 'success', 'info', 'warning', 'danger' or ''\n",
    "    tooltip='Click me',\n",
    ")\n",
    "\n",
    "display(run)\n",
    "\n",
    "plist = []\n",
    "alternatives = []\n",
    "def on_run_clicked(b):\n",
    "    try:\n",
    "        a = relations_list[0].index.values.tolist()\n",
    "        #criteria = relations_list[0].columns.values.tolist()[1:]\n",
    "        rarray = [df.as_matrix() for df in relations_list]\n",
    "        solution = ssolve(a, rarray, method.value, svalue.value)\n",
    "\n",
    "        print('===================================================')\n",
    "        print(\"Given problem involves {} : {}\".format(len(a), a))\n",
    "        print('scored according to {} criteria.'.format(len(relations_list)))\n",
    "        print('---------------------------------------------------')\n",
    "        print(\"Method: {}, s: {}\".format(method.value, svalue.value))\n",
    "        print('Set of optimal decisions: ', solution['optimal_set'])\n",
    "        print('Solution type: ', solution['set_type'])\n",
    "\n",
    "        plist.append(solution['strict_preference'])\n",
    "        alternatives.append(a)\n",
    "    except:\n",
    "        print('No problem data.')\n",
    "\n",
    "run.on_click(on_run_clicked)"
   ]
  },
  {
   "cell_type": "markdown",
   "metadata": {},
   "source": [
    "<b> Relations tables </b>"
   ]
  },
  {
   "cell_type": "code",
   "execution_count": 5,
   "metadata": {
    "hide_input": true
   },
   "outputs": [
    {
     "data": {
      "application/vnd.jupyter.widget-view+json": {
       "model_id": "91e61ded7eb949e59b72d49b150a7a87",
       "version_major": 2,
       "version_minor": 0
      },
      "text/html": [
       "<p>Failed to display Jupyter Widget of type <code>Button</code>.</p>\n",
       "<p>\n",
       "  If you're reading this message in the Jupyter Notebook or JupyterLab Notebook, it may mean\n",
       "  that the widgets JavaScript is still loading. If this message persists, it\n",
       "  likely means that the widgets JavaScript library is either not installed or\n",
       "  not enabled. See the <a href=\"https://ipywidgets.readthedocs.io/en/stable/user_install.html\">Jupyter\n",
       "  Widgets Documentation</a> for setup instructions.\n",
       "</p>\n",
       "<p>\n",
       "  If you're reading this message in another frontend (for example, a static\n",
       "  rendering on GitHub or <a href=\"https://nbviewer.jupyter.org/\">NBViewer</a>),\n",
       "  it may mean that your frontend doesn't currently support widgets.\n",
       "</p>\n"
      ],
      "text/plain": [
       "Button(description='Show', style=ButtonStyle(), tooltip='Click me')"
      ]
     },
     "metadata": {},
     "output_type": "display_data"
    },
    {
     "data": {
      "application/vnd.jupyter.widget-view+json": {
       "model_id": "2ec5e964e7a8488c92e8389b860f90d9",
       "version_major": 2,
       "version_minor": 0
      },
      "text/html": [
       "<p>Failed to display Jupyter Widget of type <code>Tab</code>.</p>\n",
       "<p>\n",
       "  If you're reading this message in the Jupyter Notebook or JupyterLab Notebook, it may mean\n",
       "  that the widgets JavaScript is still loading. If this message persists, it\n",
       "  likely means that the widgets JavaScript library is either not installed or\n",
       "  not enabled. See the <a href=\"https://ipywidgets.readthedocs.io/en/stable/user_install.html\">Jupyter\n",
       "  Widgets Documentation</a> for setup instructions.\n",
       "</p>\n",
       "<p>\n",
       "  If you're reading this message in another frontend (for example, a static\n",
       "  rendering on GitHub or <a href=\"https://nbviewer.jupyter.org/\">NBViewer</a>),\n",
       "  it may mean that your frontend doesn't currently support widgets.\n",
       "</p>\n"
      ],
      "text/plain": [
       "Tab(children=(Output(), Output()), _titles={'0': 'Relations table', '1': 'LaTeX'})"
      ]
     },
     "metadata": {},
     "output_type": "display_data"
    }
   ],
   "source": [
    "# Relations tables\n",
    "showBut = widgets.Button(\n",
    "    description='Show',\n",
    "    disabled=False,\n",
    "    button_style='', # 'success', 'info', 'warning', 'danger' or ''\n",
    "    tooltip='Click me',\n",
    ")\n",
    "\n",
    "def on_showBut_clicked(b):\n",
    "    try:\n",
    "        strict = []\n",
    "        for p in plist[0]:\n",
    "            strict.append(pd.DataFrame(p, columns=alternatives[0], index=alternatives[0]))\n",
    "\n",
    "        out1 = widgets.Output()\n",
    "        with out1:\n",
    "            for i in range(len(strict)):\n",
    "                print('==============================')\n",
    "                print(\"Large preference R: \")\n",
    "                print(relations_list[i])\n",
    "                print(\"Strict preference P: \")\n",
    "                print(strict[i])\n",
    "                \n",
    "\n",
    "        # LaTeX\n",
    "        out2 = widgets.Output()\n",
    "        with out2:\n",
    "            for i in range(len(strict)):\n",
    "                print('==============================')\n",
    "                print(\"Large preference R: \")\n",
    "                print(relations_list[i].to_latex())\n",
    "                print(\"Strict preference P: \")\n",
    "                print(strict[i].to_latex())\n",
    "\n",
    "        tab_nest = widgets.Tab()\n",
    "        tab_nest.children = [out1, out2]\n",
    "        tab_nest.set_title(0, 'Relations table')\n",
    "        tab_nest.set_title(1, 'LaTeX')\n",
    "        display(tab_nest)\n",
    "    except:\n",
    "        print('First solve the problem!')  \n",
    "        \n",
    "display(showBut)\n",
    "showBut.on_click(on_showBut_clicked)"
   ]
  },
  {
   "cell_type": "markdown",
   "metadata": {},
   "source": [
    "To solve a new problem use reset button and upload new files."
   ]
  },
  {
   "cell_type": "code",
   "execution_count": 6,
   "metadata": {
    "hide_input": true
   },
   "outputs": [
    {
     "data": {
      "application/vnd.jupyter.widget-view+json": {
       "model_id": "1f8a68042bf64b048aa0739625b702d2",
       "version_major": 2,
       "version_minor": 0
      },
      "text/html": [
       "<p>Failed to display Jupyter Widget of type <code>Button</code>.</p>\n",
       "<p>\n",
       "  If you're reading this message in the Jupyter Notebook or JupyterLab Notebook, it may mean\n",
       "  that the widgets JavaScript is still loading. If this message persists, it\n",
       "  likely means that the widgets JavaScript library is either not installed or\n",
       "  not enabled. See the <a href=\"https://ipywidgets.readthedocs.io/en/stable/user_install.html\">Jupyter\n",
       "  Widgets Documentation</a> for setup instructions.\n",
       "</p>\n",
       "<p>\n",
       "  If you're reading this message in another frontend (for example, a static\n",
       "  rendering on GitHub or <a href=\"https://nbviewer.jupyter.org/\">NBViewer</a>),\n",
       "  it may mean that your frontend doesn't currently support widgets.\n",
       "</p>\n"
      ],
      "text/plain": [
       "Button(button_style='danger', description='Reset problem', style=ButtonStyle(), tooltip='Click me')"
      ]
     },
     "metadata": {},
     "output_type": "display_data"
    }
   ],
   "source": [
    "reset = widgets.Button(\n",
    "    description='Reset problem',\n",
    "    disabled=False,\n",
    "    button_style='danger', # 'success', 'info', 'warning', 'danger' or ''\n",
    "    tooltip='Click me',\n",
    ")\n",
    "\n",
    "def on_reset_clicked(b):\n",
    "    relations_list=[]\n",
    "    print('Relations deleted. Create a new problem.')\n",
    "    \n",
    "display(reset)\n",
    "reset.on_click(on_reset_clicked)"
   ]
  },
  {
   "cell_type": "code",
   "execution_count": 8,
   "metadata": {},
   "outputs": [
    {
     "data": {
      "text/html": [
       "<script>\n",
       "code_show=true; \n",
       "function code_toggle() {\n",
       " if (code_show){\n",
       " $('div.input').hide();\n",
       " } else {\n",
       " $('div.input').show();\n",
       " }\n",
       " code_show = !code_show\n",
       "} \n",
       "$( document ).ready(code_toggle);\n",
       "</script>\n",
       "The raw code for this IPython notebook is by default hidden for easier reading.\n",
       "To toggle on/off the raw code, click <a href=\"javascript:code_toggle()\">here</a>."
      ],
      "text/plain": [
       "<IPython.core.display.HTML object>"
      ]
     },
     "execution_count": 8,
     "metadata": {},
     "output_type": "execute_result"
    }
   ],
   "source": [
    "from IPython.display import HTML\n",
    "HTML('''<script>\n",
    "code_show=true; \n",
    "function code_toggle() {\n",
    " if (code_show){\n",
    " $('div.input').hide();\n",
    " } else {\n",
    " $('div.input').show();\n",
    " }\n",
    " code_show = !code_show\n",
    "} \n",
    "$( document ).ready(code_toggle);\n",
    "</script>\n",
    "The raw code for this IPython notebook is by default hidden for easier reading.\n",
    "To toggle on/off the raw code, click <a href=\"javascript:code_toggle()\">here</a>.''')"
   ]
  },
  {
   "cell_type": "code",
   "execution_count": null,
   "metadata": {},
   "outputs": [],
   "source": []
  }
 ],
 "metadata": {
  "kernelspec": {
   "display_name": "Python 3",
   "language": "python",
   "name": "python3"
  },
  "language_info": {
   "codemirror_mode": {
    "name": "ipython",
    "version": 3
   },
   "file_extension": ".py",
   "mimetype": "text/x-python",
   "name": "python",
   "nbconvert_exporter": "python",
   "pygments_lexer": "ipython3",
   "version": "3.6.3"
  }
 },
 "nbformat": 4,
 "nbformat_minor": 2
}
